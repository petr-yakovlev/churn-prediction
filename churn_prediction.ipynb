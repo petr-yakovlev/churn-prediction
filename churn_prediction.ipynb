{
  "nbformat": 4,
  "nbformat_minor": 0,
  "metadata": {
    "colab": {
      "provenance": []
    },
    "kernelspec": {
      "name": "python3",
      "display_name": "Python 3"
    },
    "language_info": {
      "name": "python"
    }
  },
  "cells": [
    {
      "cell_type": "code",
      "metadata": {
        "colab": {
          "base_uri": "https://localhost:8080/"
        },
        "id": "nM91AG6MEsQK",
        "outputId": "c374a228-0e4e-4ff0-ea66-3b1e739901b4"
      },
      "source": [
        "from google.colab import drive\n",
        "drive.mount('/content/gdrive')"
      ],
      "execution_count": null,
      "outputs": [
        {
          "output_type": "stream",
          "name": "stdout",
          "text": [
            "Drive already mounted at /content/gdrive; to attempt to forcibly remount, call drive.mount(\"/content/gdrive\", force_remount=True).\n"
          ]
        }
      ]
    },
    {
      "cell_type": "code",
      "metadata": {
        "id": "g2PxgLz1Pys3"
      },
      "source": [
        "name_of_file='bank_churn_modeling.csv'\n",
        "path = '/content/gdrive/My Drive/Colab Notebooks/bank_churn_modeling.csv'"
      ],
      "execution_count": null,
      "outputs": []
    },
    {
      "cell_type": "code",
      "metadata": {
        "id": "YlXHdDFsQBN1"
      },
      "source": [
        "import pandas as pd "
      ],
      "execution_count": null,
      "outputs": []
    },
    {
      "cell_type": "code",
      "metadata": {
        "colab": {
          "base_uri": "https://localhost:8080/"
        },
        "id": "u8ylv1DzMinY",
        "outputId": "970aabc9-1fe3-44be-91e3-6fef03009dc7"
      },
      "source": [
        "!pip install catboost"
      ],
      "execution_count": null,
      "outputs": [
        {
          "output_type": "stream",
          "name": "stdout",
          "text": [
            "Looking in indexes: https://pypi.org/simple, https://us-python.pkg.dev/colab-wheels/public/simple/\n",
            "Requirement already satisfied: catboost in /usr/local/lib/python3.7/dist-packages (1.1)\n",
            "Requirement already satisfied: numpy>=1.16.0 in /usr/local/lib/python3.7/dist-packages (from catboost) (1.21.6)\n",
            "Requirement already satisfied: six in /usr/local/lib/python3.7/dist-packages (from catboost) (1.15.0)\n",
            "Requirement already satisfied: pandas>=0.24.0 in /usr/local/lib/python3.7/dist-packages (from catboost) (1.3.5)\n",
            "Requirement already satisfied: scipy in /usr/local/lib/python3.7/dist-packages (from catboost) (1.7.3)\n",
            "Requirement already satisfied: graphviz in /usr/local/lib/python3.7/dist-packages (from catboost) (0.10.1)\n",
            "Requirement already satisfied: plotly in /usr/local/lib/python3.7/dist-packages (from catboost) (5.5.0)\n",
            "Requirement already satisfied: matplotlib in /usr/local/lib/python3.7/dist-packages (from catboost) (3.2.2)\n",
            "Requirement already satisfied: python-dateutil>=2.7.3 in /usr/local/lib/python3.7/dist-packages (from pandas>=0.24.0->catboost) (2.8.2)\n",
            "Requirement already satisfied: pytz>=2017.3 in /usr/local/lib/python3.7/dist-packages (from pandas>=0.24.0->catboost) (2022.4)\n",
            "Requirement already satisfied: kiwisolver>=1.0.1 in /usr/local/lib/python3.7/dist-packages (from matplotlib->catboost) (1.4.4)\n",
            "Requirement already satisfied: pyparsing!=2.0.4,!=2.1.2,!=2.1.6,>=2.0.1 in /usr/local/lib/python3.7/dist-packages (from matplotlib->catboost) (3.0.9)\n",
            "Requirement already satisfied: cycler>=0.10 in /usr/local/lib/python3.7/dist-packages (from matplotlib->catboost) (0.11.0)\n",
            "Requirement already satisfied: typing-extensions in /usr/local/lib/python3.7/dist-packages (from kiwisolver>=1.0.1->matplotlib->catboost) (4.1.1)\n",
            "Requirement already satisfied: tenacity>=6.2.0 in /usr/local/lib/python3.7/dist-packages (from plotly->catboost) (8.1.0)\n"
          ]
        }
      ]
    },
    {
      "cell_type": "code",
      "metadata": {
        "colab": {
          "base_uri": "https://localhost:8080/"
        },
        "id": "FnvLx-vnPzIR",
        "outputId": "174aed29-08b1-44ba-8e71-b7e30920261a"
      },
      "source": [
        "df = pd.read_csv(path, \n",
        "                 sep=\",\", \n",
        "                 skiprows=0, \n",
        "             engine='python')\n",
        "\n",
        "print (df)"
      ],
      "execution_count": null,
      "outputs": [
        {
          "output_type": "stream",
          "name": "stdout",
          "text": [
            "      RowNumber  CustomerId    Surname  CreditScore Geography  Gender  Age  \\\n",
            "0             1    15634602   Hargrave          619    France  Female   42   \n",
            "1             2    15647311       Hill          608     Spain  Female   41   \n",
            "2             3    15619304       Onio          502    France  Female   42   \n",
            "3             4    15701354       Boni          699    France  Female   39   \n",
            "4             5    15737888   Mitchell          850     Spain  Female   43   \n",
            "...         ...         ...        ...          ...       ...     ...  ...   \n",
            "9995       9996    15606229   Obijiaku          771    France    Male   39   \n",
            "9996       9997    15569892  Johnstone          516    France    Male   35   \n",
            "9997       9998    15584532        Liu          709    France  Female   36   \n",
            "9998       9999    15682355  Sabbatini          772   Germany    Male   42   \n",
            "9999      10000    15628319     Walker          792    France  Female   28   \n",
            "\n",
            "      Tenure    Balance  NumOfProducts  HasCrCard  IsActiveMember  \\\n",
            "0          2       0.00              1          1               1   \n",
            "1          1   83807.86              1          0               1   \n",
            "2          8  159660.80              3          1               0   \n",
            "3          1       0.00              2          0               0   \n",
            "4          2  125510.82              1          1               1   \n",
            "...      ...        ...            ...        ...             ...   \n",
            "9995       5       0.00              2          1               0   \n",
            "9996      10   57369.61              1          1               1   \n",
            "9997       7       0.00              1          0               1   \n",
            "9998       3   75075.31              2          1               0   \n",
            "9999       4  130142.79              1          1               0   \n",
            "\n",
            "      EstimatedSalary  Exited  \n",
            "0           101348.88       1  \n",
            "1           112542.58       0  \n",
            "2           113931.57       1  \n",
            "3            93826.63       0  \n",
            "4            79084.10       0  \n",
            "...               ...     ...  \n",
            "9995         96270.64       0  \n",
            "9996        101699.77       0  \n",
            "9997         42085.58       1  \n",
            "9998         92888.52       1  \n",
            "9999         38190.78       0  \n",
            "\n",
            "[10000 rows x 14 columns]\n"
          ]
        }
      ]
    },
    {
      "cell_type": "code",
      "metadata": {
        "colab": {
          "base_uri": "https://localhost:8080/"
        },
        "id": "zE4CLEXDQL3v",
        "outputId": "e2370101-ded1-48d1-e845-28c68e5fceb4"
      },
      "source": [
        "df.info()"
      ],
      "execution_count": null,
      "outputs": [
        {
          "output_type": "stream",
          "name": "stdout",
          "text": [
            "<class 'pandas.core.frame.DataFrame'>\n",
            "RangeIndex: 10000 entries, 0 to 9999\n",
            "Data columns (total 14 columns):\n",
            " #   Column           Non-Null Count  Dtype  \n",
            "---  ------           --------------  -----  \n",
            " 0   RowNumber        10000 non-null  int64  \n",
            " 1   CustomerId       10000 non-null  int64  \n",
            " 2   Surname          10000 non-null  object \n",
            " 3   CreditScore      10000 non-null  int64  \n",
            " 4   Geography        10000 non-null  object \n",
            " 5   Gender           10000 non-null  object \n",
            " 6   Age              10000 non-null  int64  \n",
            " 7   Tenure           10000 non-null  int64  \n",
            " 8   Balance          10000 non-null  float64\n",
            " 9   NumOfProducts    10000 non-null  int64  \n",
            " 10  HasCrCard        10000 non-null  int64  \n",
            " 11  IsActiveMember   10000 non-null  int64  \n",
            " 12  EstimatedSalary  10000 non-null  float64\n",
            " 13  Exited           10000 non-null  int64  \n",
            "dtypes: float64(2), int64(9), object(3)\n",
            "memory usage: 1.1+ MB\n"
          ]
        }
      ]
    },
    {
      "cell_type": "code",
      "source": [
        "df.corr().style.background_gradient(\"Blues\")"
      ],
      "metadata": {
        "id": "BENylJonGA3Z",
        "outputId": "8a9459a3-a776-4dd8-81a2-6b9f3f743f7c",
        "colab": {
          "base_uri": "https://localhost:8080/",
          "height": 394
        }
      },
      "execution_count": null,
      "outputs": [
        {
          "output_type": "execute_result",
          "data": {
            "text/plain": [
              "<pandas.io.formats.style.Styler at 0x7fcaf58ddc90>"
            ],
            "text/html": [
              "<style type=\"text/css\">\n",
              "#T_dcd05_row0_col0, #T_dcd05_row1_col1, #T_dcd05_row2_col2, #T_dcd05_row3_col3, #T_dcd05_row4_col4, #T_dcd05_row5_col5, #T_dcd05_row6_col6, #T_dcd05_row7_col7, #T_dcd05_row8_col8, #T_dcd05_row9_col9, #T_dcd05_row10_col10 {\n",
              "  background-color: #08306b;\n",
              "  color: #f1f1f1;\n",
              "}\n",
              "#T_dcd05_row0_col1, #T_dcd05_row3_col0, #T_dcd05_row3_col4, #T_dcd05_row4_col9, #T_dcd05_row5_col4, #T_dcd05_row6_col7, #T_dcd05_row7_col0, #T_dcd05_row7_col3, #T_dcd05_row8_col1 {\n",
              "  background-color: #f4f9fe;\n",
              "  color: #000000;\n",
              "}\n",
              "#T_dcd05_row0_col2, #T_dcd05_row1_col2, #T_dcd05_row5_col2, #T_dcd05_row6_col1, #T_dcd05_row9_col4 {\n",
              "  background-color: #f1f7fd;\n",
              "  color: #000000;\n",
              "}\n",
              "#T_dcd05_row0_col3, #T_dcd05_row2_col4, #T_dcd05_row8_col0, #T_dcd05_row9_col1 {\n",
              "  background-color: #f2f7fd;\n",
              "  color: #000000;\n",
              "}\n",
              "#T_dcd05_row0_col4, #T_dcd05_row1_col0, #T_dcd05_row2_col0, #T_dcd05_row2_col1, #T_dcd05_row3_col2, #T_dcd05_row4_col3, #T_dcd05_row6_col0, #T_dcd05_row7_col2, #T_dcd05_row9_col3, #T_dcd05_row10_col9 {\n",
              "  background-color: #f3f8fe;\n",
              "  color: #000000;\n",
              "}\n",
              "#T_dcd05_row0_col5, #T_dcd05_row1_col5, #T_dcd05_row4_col5, #T_dcd05_row8_col5 {\n",
              "  background-color: #cbdef1;\n",
              "  color: #000000;\n",
              "}\n",
              "#T_dcd05_row0_col6, #T_dcd05_row8_col6 {\n",
              "  background-color: #c8dcf0;\n",
              "  color: #000000;\n",
              "}\n",
              "#T_dcd05_row0_col7, #T_dcd05_row1_col4, #T_dcd05_row10_col4 {\n",
              "  background-color: #f5f9fe;\n",
              "  color: #000000;\n",
              "}\n",
              "#T_dcd05_row0_col8, #T_dcd05_row9_col10 {\n",
              "  background-color: #dae8f6;\n",
              "  color: #000000;\n",
              "}\n",
              "#T_dcd05_row0_col9, #T_dcd05_row3_col9, #T_dcd05_row5_col0, #T_dcd05_row9_col7, #T_dcd05_row10_col7 {\n",
              "  background-color: #f6faff;\n",
              "  color: #000000;\n",
              "}\n",
              "#T_dcd05_row0_col10 {\n",
              "  background-color: #dfecf7;\n",
              "  color: #000000;\n",
              "}\n",
              "#T_dcd05_row1_col3, #T_dcd05_row4_col7, #T_dcd05_row6_col2 {\n",
              "  background-color: #f0f6fd;\n",
              "  color: #000000;\n",
              "}\n",
              "#T_dcd05_row1_col6 {\n",
              "  background-color: #c7dbef;\n",
              "  color: #000000;\n",
              "}\n",
              "#T_dcd05_row1_col7, #T_dcd05_row3_col7, #T_dcd05_row4_col1, #T_dcd05_row5_col1, #T_dcd05_row5_col6, #T_dcd05_row5_col7, #T_dcd05_row6_col3, #T_dcd05_row6_col5, #T_dcd05_row7_col1, #T_dcd05_row7_col9, #T_dcd05_row8_col4, #T_dcd05_row8_col7, #T_dcd05_row8_col9, #T_dcd05_row8_col10, #T_dcd05_row10_col0, #T_dcd05_row10_col2, #T_dcd05_row10_col8 {\n",
              "  background-color: #f7fbff;\n",
              "  color: #000000;\n",
              "}\n",
              "#T_dcd05_row1_col8 {\n",
              "  background-color: #dceaf6;\n",
              "  color: #000000;\n",
              "}\n",
              "#T_dcd05_row1_col9, #T_dcd05_row2_col3, #T_dcd05_row3_col1, #T_dcd05_row4_col2, #T_dcd05_row5_col9, #T_dcd05_row6_col9, #T_dcd05_row9_col2 {\n",
              "  background-color: #f2f8fd;\n",
              "  color: #000000;\n",
              "}\n",
              "#T_dcd05_row1_col10 {\n",
              "  background-color: #ddeaf7;\n",
              "  color: #000000;\n",
              "}\n",
              "#T_dcd05_row2_col5, #T_dcd05_row5_col10, #T_dcd05_row7_col6 {\n",
              "  background-color: #c9ddf0;\n",
              "  color: #000000;\n",
              "}\n",
              "#T_dcd05_row2_col6, #T_dcd05_row4_col6, #T_dcd05_row9_col5, #T_dcd05_row9_col6 {\n",
              "  background-color: #c7dcef;\n",
              "  color: #000000;\n",
              "}\n",
              "#T_dcd05_row2_col7, #T_dcd05_row2_col9, #T_dcd05_row4_col0, #T_dcd05_row9_col0, #T_dcd05_row10_col1 {\n",
              "  background-color: #f5fafe;\n",
              "  color: #000000;\n",
              "}\n",
              "#T_dcd05_row2_col8 {\n",
              "  background-color: #d8e7f5;\n",
              "  color: #000000;\n",
              "}\n",
              "#T_dcd05_row2_col10, #T_dcd05_row4_col8, #T_dcd05_row8_col3 {\n",
              "  background-color: #e1edf8;\n",
              "  color: #000000;\n",
              "}\n",
              "#T_dcd05_row3_col5 {\n",
              "  background-color: #c4daee;\n",
              "  color: #000000;\n",
              "}\n",
              "#T_dcd05_row3_col6, #T_dcd05_row3_col8 {\n",
              "  background-color: #cee0f2;\n",
              "  color: #000000;\n",
              "}\n",
              "#T_dcd05_row3_col10 {\n",
              "  background-color: #9cc9e1;\n",
              "  color: #000000;\n",
              "}\n",
              "#T_dcd05_row4_col10, #T_dcd05_row7_col8 {\n",
              "  background-color: #dfebf7;\n",
              "  color: #000000;\n",
              "}\n",
              "#T_dcd05_row5_col3 {\n",
              "  background-color: #ecf4fb;\n",
              "  color: #000000;\n",
              "}\n",
              "#T_dcd05_row5_col8, #T_dcd05_row7_col10, #T_dcd05_row9_col8 {\n",
              "  background-color: #deebf7;\n",
              "  color: #000000;\n",
              "}\n",
              "#T_dcd05_row6_col4 {\n",
              "  background-color: #eff6fc;\n",
              "  color: #000000;\n",
              "}\n",
              "#T_dcd05_row6_col8 {\n",
              "  background-color: #dbe9f6;\n",
              "  color: #000000;\n",
              "}\n",
              "#T_dcd05_row6_col10 {\n",
              "  background-color: #e5eff9;\n",
              "  color: #000000;\n",
              "}\n",
              "#T_dcd05_row7_col4 {\n",
              "  background-color: #eef5fc;\n",
              "  color: #000000;\n",
              "}\n",
              "#T_dcd05_row7_col5 {\n",
              "  background-color: #ccdff1;\n",
              "  color: #000000;\n",
              "}\n",
              "#T_dcd05_row8_col2 {\n",
              "  background-color: #edf4fc;\n",
              "  color: #000000;\n",
              "}\n",
              "#T_dcd05_row10_col3 {\n",
              "  background-color: #b4d3e9;\n",
              "  color: #000000;\n",
              "}\n",
              "#T_dcd05_row10_col5 {\n",
              "  background-color: #afd1e7;\n",
              "  color: #000000;\n",
              "}\n",
              "#T_dcd05_row10_col6 {\n",
              "  background-color: #d0e2f2;\n",
              "  color: #000000;\n",
              "}\n",
              "</style>\n",
              "<table id=\"T_dcd05_\" class=\"dataframe\">\n",
              "  <thead>\n",
              "    <tr>\n",
              "      <th class=\"blank level0\" >&nbsp;</th>\n",
              "      <th class=\"col_heading level0 col0\" >RowNumber</th>\n",
              "      <th class=\"col_heading level0 col1\" >CustomerId</th>\n",
              "      <th class=\"col_heading level0 col2\" >CreditScore</th>\n",
              "      <th class=\"col_heading level0 col3\" >Age</th>\n",
              "      <th class=\"col_heading level0 col4\" >Tenure</th>\n",
              "      <th class=\"col_heading level0 col5\" >Balance</th>\n",
              "      <th class=\"col_heading level0 col6\" >NumOfProducts</th>\n",
              "      <th class=\"col_heading level0 col7\" >HasCrCard</th>\n",
              "      <th class=\"col_heading level0 col8\" >IsActiveMember</th>\n",
              "      <th class=\"col_heading level0 col9\" >EstimatedSalary</th>\n",
              "      <th class=\"col_heading level0 col10\" >Exited</th>\n",
              "    </tr>\n",
              "  </thead>\n",
              "  <tbody>\n",
              "    <tr>\n",
              "      <th id=\"T_dcd05_level0_row0\" class=\"row_heading level0 row0\" >RowNumber</th>\n",
              "      <td id=\"T_dcd05_row0_col0\" class=\"data row0 col0\" >1.000000</td>\n",
              "      <td id=\"T_dcd05_row0_col1\" class=\"data row0 col1\" >0.004202</td>\n",
              "      <td id=\"T_dcd05_row0_col2\" class=\"data row0 col2\" >0.005840</td>\n",
              "      <td id=\"T_dcd05_row0_col3\" class=\"data row0 col3\" >0.000783</td>\n",
              "      <td id=\"T_dcd05_row0_col4\" class=\"data row0 col4\" >-0.006495</td>\n",
              "      <td id=\"T_dcd05_row0_col5\" class=\"data row0 col5\" >-0.009067</td>\n",
              "      <td id=\"T_dcd05_row0_col6\" class=\"data row0 col6\" >0.007246</td>\n",
              "      <td id=\"T_dcd05_row0_col7\" class=\"data row0 col7\" >0.000599</td>\n",
              "      <td id=\"T_dcd05_row0_col8\" class=\"data row0 col8\" >0.012044</td>\n",
              "      <td id=\"T_dcd05_row0_col9\" class=\"data row0 col9\" >-0.005988</td>\n",
              "      <td id=\"T_dcd05_row0_col10\" class=\"data row0 col10\" >-0.016571</td>\n",
              "    </tr>\n",
              "    <tr>\n",
              "      <th id=\"T_dcd05_level0_row1\" class=\"row_heading level0 row1\" >CustomerId</th>\n",
              "      <td id=\"T_dcd05_row1_col0\" class=\"data row1 col0\" >0.004202</td>\n",
              "      <td id=\"T_dcd05_row1_col1\" class=\"data row1 col1\" >1.000000</td>\n",
              "      <td id=\"T_dcd05_row1_col2\" class=\"data row1 col2\" >0.005308</td>\n",
              "      <td id=\"T_dcd05_row1_col3\" class=\"data row1 col3\" >0.009497</td>\n",
              "      <td id=\"T_dcd05_row1_col4\" class=\"data row1 col4\" >-0.014883</td>\n",
              "      <td id=\"T_dcd05_row1_col5\" class=\"data row1 col5\" >-0.012419</td>\n",
              "      <td id=\"T_dcd05_row1_col6\" class=\"data row1 col6\" >0.016972</td>\n",
              "      <td id=\"T_dcd05_row1_col7\" class=\"data row1 col7\" >-0.014025</td>\n",
              "      <td id=\"T_dcd05_row1_col8\" class=\"data row1 col8\" >0.001665</td>\n",
              "      <td id=\"T_dcd05_row1_col9\" class=\"data row1 col9\" >0.015271</td>\n",
              "      <td id=\"T_dcd05_row1_col10\" class=\"data row1 col10\" >-0.006248</td>\n",
              "    </tr>\n",
              "    <tr>\n",
              "      <th id=\"T_dcd05_level0_row2\" class=\"row_heading level0 row2\" >CreditScore</th>\n",
              "      <td id=\"T_dcd05_row2_col0\" class=\"data row2 col0\" >0.005840</td>\n",
              "      <td id=\"T_dcd05_row2_col1\" class=\"data row2 col1\" >0.005308</td>\n",
              "      <td id=\"T_dcd05_row2_col2\" class=\"data row2 col2\" >1.000000</td>\n",
              "      <td id=\"T_dcd05_row2_col3\" class=\"data row2 col3\" >-0.003965</td>\n",
              "      <td id=\"T_dcd05_row2_col4\" class=\"data row2 col4\" >0.000842</td>\n",
              "      <td id=\"T_dcd05_row2_col5\" class=\"data row2 col5\" >0.006268</td>\n",
              "      <td id=\"T_dcd05_row2_col6\" class=\"data row2 col6\" >0.012238</td>\n",
              "      <td id=\"T_dcd05_row2_col7\" class=\"data row2 col7\" >-0.005458</td>\n",
              "      <td id=\"T_dcd05_row2_col8\" class=\"data row2 col8\" >0.025651</td>\n",
              "      <td id=\"T_dcd05_row2_col9\" class=\"data row2 col9\" >-0.001384</td>\n",
              "      <td id=\"T_dcd05_row2_col10\" class=\"data row2 col10\" >-0.027094</td>\n",
              "    </tr>\n",
              "    <tr>\n",
              "      <th id=\"T_dcd05_level0_row3\" class=\"row_heading level0 row3\" >Age</th>\n",
              "      <td id=\"T_dcd05_row3_col0\" class=\"data row3 col0\" >0.000783</td>\n",
              "      <td id=\"T_dcd05_row3_col1\" class=\"data row3 col1\" >0.009497</td>\n",
              "      <td id=\"T_dcd05_row3_col2\" class=\"data row3 col2\" >-0.003965</td>\n",
              "      <td id=\"T_dcd05_row3_col3\" class=\"data row3 col3\" >1.000000</td>\n",
              "      <td id=\"T_dcd05_row3_col4\" class=\"data row3 col4\" >-0.009997</td>\n",
              "      <td id=\"T_dcd05_row3_col5\" class=\"data row3 col5\" >0.028308</td>\n",
              "      <td id=\"T_dcd05_row3_col6\" class=\"data row3 col6\" >-0.030680</td>\n",
              "      <td id=\"T_dcd05_row3_col7\" class=\"data row3 col7\" >-0.011721</td>\n",
              "      <td id=\"T_dcd05_row3_col8\" class=\"data row3 col8\" >0.085472</td>\n",
              "      <td id=\"T_dcd05_row3_col9\" class=\"data row3 col9\" >-0.007201</td>\n",
              "      <td id=\"T_dcd05_row3_col10\" class=\"data row3 col10\" >0.285323</td>\n",
              "    </tr>\n",
              "    <tr>\n",
              "      <th id=\"T_dcd05_level0_row4\" class=\"row_heading level0 row4\" >Tenure</th>\n",
              "      <td id=\"T_dcd05_row4_col0\" class=\"data row4 col0\" >-0.006495</td>\n",
              "      <td id=\"T_dcd05_row4_col1\" class=\"data row4 col1\" >-0.014883</td>\n",
              "      <td id=\"T_dcd05_row4_col2\" class=\"data row4 col2\" >0.000842</td>\n",
              "      <td id=\"T_dcd05_row4_col3\" class=\"data row4 col3\" >-0.009997</td>\n",
              "      <td id=\"T_dcd05_row4_col4\" class=\"data row4 col4\" >1.000000</td>\n",
              "      <td id=\"T_dcd05_row4_col5\" class=\"data row4 col5\" >-0.012254</td>\n",
              "      <td id=\"T_dcd05_row4_col6\" class=\"data row4 col6\" >0.013444</td>\n",
              "      <td id=\"T_dcd05_row4_col7\" class=\"data row4 col7\" >0.022583</td>\n",
              "      <td id=\"T_dcd05_row4_col8\" class=\"data row4 col8\" >-0.028362</td>\n",
              "      <td id=\"T_dcd05_row4_col9\" class=\"data row4 col9\" >0.007784</td>\n",
              "      <td id=\"T_dcd05_row4_col10\" class=\"data row4 col10\" >-0.014001</td>\n",
              "    </tr>\n",
              "    <tr>\n",
              "      <th id=\"T_dcd05_level0_row5\" class=\"row_heading level0 row5\" >Balance</th>\n",
              "      <td id=\"T_dcd05_row5_col0\" class=\"data row5 col0\" >-0.009067</td>\n",
              "      <td id=\"T_dcd05_row5_col1\" class=\"data row5 col1\" >-0.012419</td>\n",
              "      <td id=\"T_dcd05_row5_col2\" class=\"data row5 col2\" >0.006268</td>\n",
              "      <td id=\"T_dcd05_row5_col3\" class=\"data row5 col3\" >0.028308</td>\n",
              "      <td id=\"T_dcd05_row5_col4\" class=\"data row5 col4\" >-0.012254</td>\n",
              "      <td id=\"T_dcd05_row5_col5\" class=\"data row5 col5\" >1.000000</td>\n",
              "      <td id=\"T_dcd05_row5_col6\" class=\"data row5 col6\" >-0.304180</td>\n",
              "      <td id=\"T_dcd05_row5_col7\" class=\"data row5 col7\" >-0.014858</td>\n",
              "      <td id=\"T_dcd05_row5_col8\" class=\"data row5 col8\" >-0.010084</td>\n",
              "      <td id=\"T_dcd05_row5_col9\" class=\"data row5 col9\" >0.012797</td>\n",
              "      <td id=\"T_dcd05_row5_col10\" class=\"data row5 col10\" >0.118533</td>\n",
              "    </tr>\n",
              "    <tr>\n",
              "      <th id=\"T_dcd05_level0_row6\" class=\"row_heading level0 row6\" >NumOfProducts</th>\n",
              "      <td id=\"T_dcd05_row6_col0\" class=\"data row6 col0\" >0.007246</td>\n",
              "      <td id=\"T_dcd05_row6_col1\" class=\"data row6 col1\" >0.016972</td>\n",
              "      <td id=\"T_dcd05_row6_col2\" class=\"data row6 col2\" >0.012238</td>\n",
              "      <td id=\"T_dcd05_row6_col3\" class=\"data row6 col3\" >-0.030680</td>\n",
              "      <td id=\"T_dcd05_row6_col4\" class=\"data row6 col4\" >0.013444</td>\n",
              "      <td id=\"T_dcd05_row6_col5\" class=\"data row6 col5\" >-0.304180</td>\n",
              "      <td id=\"T_dcd05_row6_col6\" class=\"data row6 col6\" >1.000000</td>\n",
              "      <td id=\"T_dcd05_row6_col7\" class=\"data row6 col7\" >0.003183</td>\n",
              "      <td id=\"T_dcd05_row6_col8\" class=\"data row6 col8\" >0.009612</td>\n",
              "      <td id=\"T_dcd05_row6_col9\" class=\"data row6 col9\" >0.014204</td>\n",
              "      <td id=\"T_dcd05_row6_col10\" class=\"data row6 col10\" >-0.047820</td>\n",
              "    </tr>\n",
              "    <tr>\n",
              "      <th id=\"T_dcd05_level0_row7\" class=\"row_heading level0 row7\" >HasCrCard</th>\n",
              "      <td id=\"T_dcd05_row7_col0\" class=\"data row7 col0\" >0.000599</td>\n",
              "      <td id=\"T_dcd05_row7_col1\" class=\"data row7 col1\" >-0.014025</td>\n",
              "      <td id=\"T_dcd05_row7_col2\" class=\"data row7 col2\" >-0.005458</td>\n",
              "      <td id=\"T_dcd05_row7_col3\" class=\"data row7 col3\" >-0.011721</td>\n",
              "      <td id=\"T_dcd05_row7_col4\" class=\"data row7 col4\" >0.022583</td>\n",
              "      <td id=\"T_dcd05_row7_col5\" class=\"data row7 col5\" >-0.014858</td>\n",
              "      <td id=\"T_dcd05_row7_col6\" class=\"data row7 col6\" >0.003183</td>\n",
              "      <td id=\"T_dcd05_row7_col7\" class=\"data row7 col7\" >1.000000</td>\n",
              "      <td id=\"T_dcd05_row7_col8\" class=\"data row7 col8\" >-0.011866</td>\n",
              "      <td id=\"T_dcd05_row7_col9\" class=\"data row7 col9\" >-0.009933</td>\n",
              "      <td id=\"T_dcd05_row7_col10\" class=\"data row7 col10\" >-0.007138</td>\n",
              "    </tr>\n",
              "    <tr>\n",
              "      <th id=\"T_dcd05_level0_row8\" class=\"row_heading level0 row8\" >IsActiveMember</th>\n",
              "      <td id=\"T_dcd05_row8_col0\" class=\"data row8 col0\" >0.012044</td>\n",
              "      <td id=\"T_dcd05_row8_col1\" class=\"data row8 col1\" >0.001665</td>\n",
              "      <td id=\"T_dcd05_row8_col2\" class=\"data row8 col2\" >0.025651</td>\n",
              "      <td id=\"T_dcd05_row8_col3\" class=\"data row8 col3\" >0.085472</td>\n",
              "      <td id=\"T_dcd05_row8_col4\" class=\"data row8 col4\" >-0.028362</td>\n",
              "      <td id=\"T_dcd05_row8_col5\" class=\"data row8 col5\" >-0.010084</td>\n",
              "      <td id=\"T_dcd05_row8_col6\" class=\"data row8 col6\" >0.009612</td>\n",
              "      <td id=\"T_dcd05_row8_col7\" class=\"data row8 col7\" >-0.011866</td>\n",
              "      <td id=\"T_dcd05_row8_col8\" class=\"data row8 col8\" >1.000000</td>\n",
              "      <td id=\"T_dcd05_row8_col9\" class=\"data row8 col9\" >-0.011421</td>\n",
              "      <td id=\"T_dcd05_row8_col10\" class=\"data row8 col10\" >-0.156128</td>\n",
              "    </tr>\n",
              "    <tr>\n",
              "      <th id=\"T_dcd05_level0_row9\" class=\"row_heading level0 row9\" >EstimatedSalary</th>\n",
              "      <td id=\"T_dcd05_row9_col0\" class=\"data row9 col0\" >-0.005988</td>\n",
              "      <td id=\"T_dcd05_row9_col1\" class=\"data row9 col1\" >0.015271</td>\n",
              "      <td id=\"T_dcd05_row9_col2\" class=\"data row9 col2\" >-0.001384</td>\n",
              "      <td id=\"T_dcd05_row9_col3\" class=\"data row9 col3\" >-0.007201</td>\n",
              "      <td id=\"T_dcd05_row9_col4\" class=\"data row9 col4\" >0.007784</td>\n",
              "      <td id=\"T_dcd05_row9_col5\" class=\"data row9 col5\" >0.012797</td>\n",
              "      <td id=\"T_dcd05_row9_col6\" class=\"data row9 col6\" >0.014204</td>\n",
              "      <td id=\"T_dcd05_row9_col7\" class=\"data row9 col7\" >-0.009933</td>\n",
              "      <td id=\"T_dcd05_row9_col8\" class=\"data row9 col8\" >-0.011421</td>\n",
              "      <td id=\"T_dcd05_row9_col9\" class=\"data row9 col9\" >1.000000</td>\n",
              "      <td id=\"T_dcd05_row9_col10\" class=\"data row9 col10\" >0.012097</td>\n",
              "    </tr>\n",
              "    <tr>\n",
              "      <th id=\"T_dcd05_level0_row10\" class=\"row_heading level0 row10\" >Exited</th>\n",
              "      <td id=\"T_dcd05_row10_col0\" class=\"data row10 col0\" >-0.016571</td>\n",
              "      <td id=\"T_dcd05_row10_col1\" class=\"data row10 col1\" >-0.006248</td>\n",
              "      <td id=\"T_dcd05_row10_col2\" class=\"data row10 col2\" >-0.027094</td>\n",
              "      <td id=\"T_dcd05_row10_col3\" class=\"data row10 col3\" >0.285323</td>\n",
              "      <td id=\"T_dcd05_row10_col4\" class=\"data row10 col4\" >-0.014001</td>\n",
              "      <td id=\"T_dcd05_row10_col5\" class=\"data row10 col5\" >0.118533</td>\n",
              "      <td id=\"T_dcd05_row10_col6\" class=\"data row10 col6\" >-0.047820</td>\n",
              "      <td id=\"T_dcd05_row10_col7\" class=\"data row10 col7\" >-0.007138</td>\n",
              "      <td id=\"T_dcd05_row10_col8\" class=\"data row10 col8\" >-0.156128</td>\n",
              "      <td id=\"T_dcd05_row10_col9\" class=\"data row10 col9\" >0.012097</td>\n",
              "      <td id=\"T_dcd05_row10_col10\" class=\"data row10 col10\" >1.000000</td>\n",
              "    </tr>\n",
              "  </tbody>\n",
              "</table>\n"
            ]
          },
          "metadata": {},
          "execution_count": 7
        }
      ]
    },
    {
      "cell_type": "code",
      "source": [
        "import matplotlib.pyplot as plt"
      ],
      "metadata": {
        "id": "nJvdI0i2Hzvl"
      },
      "execution_count": null,
      "outputs": []
    },
    {
      "cell_type": "code",
      "source": [
        "df.head()"
      ],
      "metadata": {
        "id": "716Ha_m5Ggz8",
        "outputId": "0892ef03-7c56-4f8f-8eb8-ef9b1e22d7dc",
        "colab": {
          "base_uri": "https://localhost:8080/",
          "height": 270
        }
      },
      "execution_count": null,
      "outputs": [
        {
          "output_type": "execute_result",
          "data": {
            "text/plain": [
              "   RowNumber  CustomerId   Surname  CreditScore Geography  Gender  Age  \\\n",
              "0          1    15634602  Hargrave          619    France  Female   42   \n",
              "1          2    15647311      Hill          608     Spain  Female   41   \n",
              "2          3    15619304      Onio          502    France  Female   42   \n",
              "3          4    15701354      Boni          699    France  Female   39   \n",
              "4          5    15737888  Mitchell          850     Spain  Female   43   \n",
              "\n",
              "   Tenure    Balance  NumOfProducts  HasCrCard  IsActiveMember  \\\n",
              "0       2       0.00              1          1               1   \n",
              "1       1   83807.86              1          0               1   \n",
              "2       8  159660.80              3          1               0   \n",
              "3       1       0.00              2          0               0   \n",
              "4       2  125510.82              1          1               1   \n",
              "\n",
              "   EstimatedSalary  Exited  \n",
              "0        101348.88       1  \n",
              "1        112542.58       0  \n",
              "2        113931.57       1  \n",
              "3         93826.63       0  \n",
              "4         79084.10       0  "
            ],
            "text/html": [
              "\n",
              "  <div id=\"df-79935e73-2a90-413b-8f12-4cbfe574a2a1\">\n",
              "    <div class=\"colab-df-container\">\n",
              "      <div>\n",
              "<style scoped>\n",
              "    .dataframe tbody tr th:only-of-type {\n",
              "        vertical-align: middle;\n",
              "    }\n",
              "\n",
              "    .dataframe tbody tr th {\n",
              "        vertical-align: top;\n",
              "    }\n",
              "\n",
              "    .dataframe thead th {\n",
              "        text-align: right;\n",
              "    }\n",
              "</style>\n",
              "<table border=\"1\" class=\"dataframe\">\n",
              "  <thead>\n",
              "    <tr style=\"text-align: right;\">\n",
              "      <th></th>\n",
              "      <th>RowNumber</th>\n",
              "      <th>CustomerId</th>\n",
              "      <th>Surname</th>\n",
              "      <th>CreditScore</th>\n",
              "      <th>Geography</th>\n",
              "      <th>Gender</th>\n",
              "      <th>Age</th>\n",
              "      <th>Tenure</th>\n",
              "      <th>Balance</th>\n",
              "      <th>NumOfProducts</th>\n",
              "      <th>HasCrCard</th>\n",
              "      <th>IsActiveMember</th>\n",
              "      <th>EstimatedSalary</th>\n",
              "      <th>Exited</th>\n",
              "    </tr>\n",
              "  </thead>\n",
              "  <tbody>\n",
              "    <tr>\n",
              "      <th>0</th>\n",
              "      <td>1</td>\n",
              "      <td>15634602</td>\n",
              "      <td>Hargrave</td>\n",
              "      <td>619</td>\n",
              "      <td>France</td>\n",
              "      <td>Female</td>\n",
              "      <td>42</td>\n",
              "      <td>2</td>\n",
              "      <td>0.00</td>\n",
              "      <td>1</td>\n",
              "      <td>1</td>\n",
              "      <td>1</td>\n",
              "      <td>101348.88</td>\n",
              "      <td>1</td>\n",
              "    </tr>\n",
              "    <tr>\n",
              "      <th>1</th>\n",
              "      <td>2</td>\n",
              "      <td>15647311</td>\n",
              "      <td>Hill</td>\n",
              "      <td>608</td>\n",
              "      <td>Spain</td>\n",
              "      <td>Female</td>\n",
              "      <td>41</td>\n",
              "      <td>1</td>\n",
              "      <td>83807.86</td>\n",
              "      <td>1</td>\n",
              "      <td>0</td>\n",
              "      <td>1</td>\n",
              "      <td>112542.58</td>\n",
              "      <td>0</td>\n",
              "    </tr>\n",
              "    <tr>\n",
              "      <th>2</th>\n",
              "      <td>3</td>\n",
              "      <td>15619304</td>\n",
              "      <td>Onio</td>\n",
              "      <td>502</td>\n",
              "      <td>France</td>\n",
              "      <td>Female</td>\n",
              "      <td>42</td>\n",
              "      <td>8</td>\n",
              "      <td>159660.80</td>\n",
              "      <td>3</td>\n",
              "      <td>1</td>\n",
              "      <td>0</td>\n",
              "      <td>113931.57</td>\n",
              "      <td>1</td>\n",
              "    </tr>\n",
              "    <tr>\n",
              "      <th>3</th>\n",
              "      <td>4</td>\n",
              "      <td>15701354</td>\n",
              "      <td>Boni</td>\n",
              "      <td>699</td>\n",
              "      <td>France</td>\n",
              "      <td>Female</td>\n",
              "      <td>39</td>\n",
              "      <td>1</td>\n",
              "      <td>0.00</td>\n",
              "      <td>2</td>\n",
              "      <td>0</td>\n",
              "      <td>0</td>\n",
              "      <td>93826.63</td>\n",
              "      <td>0</td>\n",
              "    </tr>\n",
              "    <tr>\n",
              "      <th>4</th>\n",
              "      <td>5</td>\n",
              "      <td>15737888</td>\n",
              "      <td>Mitchell</td>\n",
              "      <td>850</td>\n",
              "      <td>Spain</td>\n",
              "      <td>Female</td>\n",
              "      <td>43</td>\n",
              "      <td>2</td>\n",
              "      <td>125510.82</td>\n",
              "      <td>1</td>\n",
              "      <td>1</td>\n",
              "      <td>1</td>\n",
              "      <td>79084.10</td>\n",
              "      <td>0</td>\n",
              "    </tr>\n",
              "  </tbody>\n",
              "</table>\n",
              "</div>\n",
              "      <button class=\"colab-df-convert\" onclick=\"convertToInteractive('df-79935e73-2a90-413b-8f12-4cbfe574a2a1')\"\n",
              "              title=\"Convert this dataframe to an interactive table.\"\n",
              "              style=\"display:none;\">\n",
              "        \n",
              "  <svg xmlns=\"http://www.w3.org/2000/svg\" height=\"24px\"viewBox=\"0 0 24 24\"\n",
              "       width=\"24px\">\n",
              "    <path d=\"M0 0h24v24H0V0z\" fill=\"none\"/>\n",
              "    <path d=\"M18.56 5.44l.94 2.06.94-2.06 2.06-.94-2.06-.94-.94-2.06-.94 2.06-2.06.94zm-11 1L8.5 8.5l.94-2.06 2.06-.94-2.06-.94L8.5 2.5l-.94 2.06-2.06.94zm10 10l.94 2.06.94-2.06 2.06-.94-2.06-.94-.94-2.06-.94 2.06-2.06.94z\"/><path d=\"M17.41 7.96l-1.37-1.37c-.4-.4-.92-.59-1.43-.59-.52 0-1.04.2-1.43.59L10.3 9.45l-7.72 7.72c-.78.78-.78 2.05 0 2.83L4 21.41c.39.39.9.59 1.41.59.51 0 1.02-.2 1.41-.59l7.78-7.78 2.81-2.81c.8-.78.8-2.07 0-2.86zM5.41 20L4 18.59l7.72-7.72 1.47 1.35L5.41 20z\"/>\n",
              "  </svg>\n",
              "      </button>\n",
              "      \n",
              "  <style>\n",
              "    .colab-df-container {\n",
              "      display:flex;\n",
              "      flex-wrap:wrap;\n",
              "      gap: 12px;\n",
              "    }\n",
              "\n",
              "    .colab-df-convert {\n",
              "      background-color: #E8F0FE;\n",
              "      border: none;\n",
              "      border-radius: 50%;\n",
              "      cursor: pointer;\n",
              "      display: none;\n",
              "      fill: #1967D2;\n",
              "      height: 32px;\n",
              "      padding: 0 0 0 0;\n",
              "      width: 32px;\n",
              "    }\n",
              "\n",
              "    .colab-df-convert:hover {\n",
              "      background-color: #E2EBFA;\n",
              "      box-shadow: 0px 1px 2px rgba(60, 64, 67, 0.3), 0px 1px 3px 1px rgba(60, 64, 67, 0.15);\n",
              "      fill: #174EA6;\n",
              "    }\n",
              "\n",
              "    [theme=dark] .colab-df-convert {\n",
              "      background-color: #3B4455;\n",
              "      fill: #D2E3FC;\n",
              "    }\n",
              "\n",
              "    [theme=dark] .colab-df-convert:hover {\n",
              "      background-color: #434B5C;\n",
              "      box-shadow: 0px 1px 3px 1px rgba(0, 0, 0, 0.15);\n",
              "      filter: drop-shadow(0px 1px 2px rgba(0, 0, 0, 0.3));\n",
              "      fill: #FFFFFF;\n",
              "    }\n",
              "  </style>\n",
              "\n",
              "      <script>\n",
              "        const buttonEl =\n",
              "          document.querySelector('#df-79935e73-2a90-413b-8f12-4cbfe574a2a1 button.colab-df-convert');\n",
              "        buttonEl.style.display =\n",
              "          google.colab.kernel.accessAllowed ? 'block' : 'none';\n",
              "\n",
              "        async function convertToInteractive(key) {\n",
              "          const element = document.querySelector('#df-79935e73-2a90-413b-8f12-4cbfe574a2a1');\n",
              "          const dataTable =\n",
              "            await google.colab.kernel.invokeFunction('convertToInteractive',\n",
              "                                                     [key], {});\n",
              "          if (!dataTable) return;\n",
              "\n",
              "          const docLinkHtml = 'Like what you see? Visit the ' +\n",
              "            '<a target=\"_blank\" href=https://colab.research.google.com/notebooks/data_table.ipynb>data table notebook</a>'\n",
              "            + ' to learn more about interactive tables.';\n",
              "          element.innerHTML = '';\n",
              "          dataTable['output_type'] = 'display_data';\n",
              "          await google.colab.output.renderOutput(dataTable, element);\n",
              "          const docLink = document.createElement('div');\n",
              "          docLink.innerHTML = docLinkHtml;\n",
              "          element.appendChild(docLink);\n",
              "        }\n",
              "      </script>\n",
              "    </div>\n",
              "  </div>\n",
              "  "
            ]
          },
          "metadata": {},
          "execution_count": 10
        }
      ]
    },
    {
      "cell_type": "code",
      "metadata": {
        "id": "pilhPCU9QN7u"
      },
      "source": [
        "df1 = df.drop(['RowNumber', 'CustomerId', 'Surname'], axis=1)"
      ],
      "execution_count": null,
      "outputs": []
    },
    {
      "cell_type": "code",
      "metadata": {
        "colab": {
          "base_uri": "https://localhost:8080/"
        },
        "id": "w6qnwq7qY_M1",
        "outputId": "ca9f2722-70ba-4c65-cd12-fab994a06ac9"
      },
      "source": [
        "df['Geography'].head()"
      ],
      "execution_count": null,
      "outputs": [
        {
          "output_type": "execute_result",
          "data": {
            "text/plain": [
              "0    France\n",
              "1     Spain\n",
              "2    France\n",
              "3    France\n",
              "4     Spain\n",
              "Name: Geography, dtype: object"
            ]
          },
          "metadata": {},
          "execution_count": 12
        }
      ]
    },
    {
      "cell_type": "code",
      "source": [
        "import scipy.stats as stats\n",
        "import numpy as np\n",
        "\n",
        "for col in ['CreditScore', 'Balance']:\n",
        "  for flag in [0,1]:\n",
        "    temp = df[df.Exited == flag]\n",
        "    plt.title(f'Distribution of {col} by Exited type')\n",
        "    fit = stats.norm.pdf(temp[col])\n",
        "    plt.hist(temp[col], 50, density=True, label=flag, alpha = 0.5, lw=3);\n",
        "    plt.legend();\n",
        "  plt.show()"
      ],
      "metadata": {
        "id": "s5p7PqGscGUR",
        "outputId": "460e1129-99ac-4a64-b73d-6f4ec11adb2f",
        "colab": {
          "base_uri": "https://localhost:8080/",
          "height": 545
        }
      },
      "execution_count": null,
      "outputs": [
        {
          "output_type": "display_data",
          "data": {
            "text/plain": [
              "<Figure size 432x288 with 1 Axes>"
            ],
            "image/png": "[encoded data removed]"
          },
          "metadata": {
            "needs_background": "light"
          }
        },
        {
          "output_type": "display_data",
          "data": {
            "text/plain": [
              "<Figure size 432x288 with 1 Axes>"
            ],
            "image/png": "[encoded data removed]"
          },
          "metadata": {
            "needs_background": "light"
          }
        }
      ]
    },
    {
      "cell_type": "markdown",
      "metadata": {
        "id": "2CsdNh5bU8Uq"
      },
      "source": [
        "# Churn exploratory analysis"
      ]
    },
    {
      "cell_type": "code",
      "metadata": {
        "colab": {
          "base_uri": "https://localhost:8080/",
          "height": 542
        },
        "id": "ew2UVHcWSnEW",
        "outputId": "13105d16-455c-4166-b63f-846cde9b60a9"
      },
      "source": [
        "import plotly.express as px\n",
        "target_instance = df1[\"Exited\"].value_counts().to_frame()\n",
        "target_instance = target_instance.reset_index()\n",
        "target_instance = target_instance.rename(columns={'index': 'Category'})\n",
        "fig = px.pie(target_instance, values='Exited', names='Category', color_discrete_sequence=[\"green\", \"red\"],\n",
        "             title='Distribution of Churn')\n",
        "fig.show()"
      ],
      "execution_count": null,
      "outputs": [
        {
          "output_type": "display_data",
          "data": {
            "text/html": [
              "<html>\n",
              "<head><meta charset=\"utf-8\" /></head>\n",
              "<body>\n",
              "    <div>            <script src=\"https://cdnjs.cloudflare.com/ajax/libs/mathjax/2.7.5/MathJax.js?config=TeX-AMS-MML_SVG\"></script><script type=\"text/javascript\">if (window.MathJax) {MathJax.Hub.Config({SVG: {font: \"STIX-Web\"}});}</script>                <script type=\"text/javascript\">window.PlotlyConfig = {MathJaxConfig: 'local'};</script>\n",
              "        <script src=\"https://cdn.plot.ly/plotly-2.8.3.min.js\"></script>                <div id=\"f0e0dc0d-a5f6-405a-a8a1-521b1d1e6f9f\" class=\"plotly-graph-div\" style=\"height:525px; width:100%;\"></div>            <script type=\"text/javascript\">                                    window.PLOTLYENV=window.PLOTLYENV || {};                                    if (document.getElementById(\"f0e0dc0d-a5f6-405a-a8a1-521b1d1e6f9f\")) {                    Plotly.newPlot(                        \"f0e0dc0d-a5f6-405a-a8a1-521b1d1e6f9f\",                        [{\"domain\":{\"x\":[0.0,1.0],\"y\":[0.0,1.0]},\"hovertemplate\":\"Category=%{label}<br>Exited=%{value}<extra></extra>\",\"labels\":[0,1],\"legendgroup\":\"\",\"name\":\"\",\"showlegend\":true,\"values\":[7963,2037],\"type\":\"pie\"}],                        {\"template\":{\"data\":{\"bar\":[{\"error_x\":{\"color\":\"#2a3f5f\"},\"error_y\":{\"color\":\"#2a3f5f\"},\"marker\":{\"line\":{\"color\":\"#E5ECF6\",\"width\":0.5},\"pattern\":{\"fillmode\":\"overlay\",\"size\":10,\"solidity\":0.2}},\"type\":\"bar\"}],\"barpolar\":[{\"marker\":{\"line\":{\"color\":\"#E5ECF6\",\"width\":0.5},\"pattern\":{\"fillmode\":\"overlay\",\"size\":10,\"solidity\":0.2}},\"type\":\"barpolar\"}],\"carpet\":[{\"aaxis\":{\"endlinecolor\":\"#2a3f5f\",\"gridcolor\":\"white\",\"linecolor\":\"white\",\"minorgridcolor\":\"white\",\"startlinecolor\":\"#2a3f5f\"},\"baxis\":{\"endlinecolor\":\"#2a3f5f\",\"gridcolor\":\"white\",\"linecolor\":\"white\",\"minorgridcolor\":\"white\",\"startlinecolor\":\"#2a3f5f\"},\"type\":\"carpet\"}],\"choropleth\":[{\"colorbar\":{\"outlinewidth\":0,\"ticks\":\"\"},\"type\":\"choropleth\"}],\"contour\":[{\"colorbar\":{\"outlinewidth\":0,\"ticks\":\"\"},\"colorscale\":[[0.0,\"#0d0887\"],[0.1111111111111111,\"#46039f\"],[0.2222222222222222,\"#7201a8\"],[0.3333333333333333,\"#9c179e\"],[0.4444444444444444,\"#bd3786\"],[0.5555555555555556,\"#d8576b\"],[0.6666666666666666,\"#ed7953\"],[0.7777777777777778,\"#fb9f3a\"],[0.8888888888888888,\"#fdca26\"],[1.0,\"#f0f921\"]],\"type\":\"contour\"}],\"contourcarpet\":[{\"colorbar\":{\"outlinewidth\":0,\"ticks\":\"\"},\"type\":\"contourcarpet\"}],\"heatmap\":[{\"colorbar\":{\"outlinewidth\":0,\"ticks\":\"\"},\"colorscale\":[[0.0,\"#0d0887\"],[0.1111111111111111,\"#46039f\"],[0.2222222222222222,\"#7201a8\"],[0.3333333333333333,\"#9c179e\"],[0.4444444444444444,\"#bd3786\"],[0.5555555555555556,\"#d8576b\"],[0.6666666666666666,\"#ed7953\"],[0.7777777777777778,\"#fb9f3a\"],[0.8888888888888888,\"#fdca26\"],[1.0,\"#f0f921\"]],\"type\":\"heatmap\"}],\"heatmapgl\":[{\"colorbar\":{\"outlinewidth\":0,\"ticks\":\"\"},\"colorscale\":[[0.0,\"#0d0887\"],[0.1111111111111111,\"#46039f\"],[0.2222222222222222,\"#7201a8\"],[0.3333333333333333,\"#9c179e\"],[0.4444444444444444,\"#bd3786\"],[0.5555555555555556,\"#d8576b\"],[0.6666666666666666,\"#ed7953\"],[0.7777777777777778,\"#fb9f3a\"],[0.8888888888888888,\"#fdca26\"],[1.0,\"#f0f921\"]],\"type\":\"heatmapgl\"}],\"histogram\":[{\"marker\":{\"pattern\":{\"fillmode\":\"overlay\",\"size\":10,\"solidity\":0.2}},\"type\":\"histogram\"}],\"histogram2d\":[{\"colorbar\":{\"outlinewidth\":0,\"ticks\":\"\"},\"colorscale\":[[0.0,\"#0d0887\"],[0.1111111111111111,\"#46039f\"],[0.2222222222222222,\"#7201a8\"],[0.3333333333333333,\"#9c179e\"],[0.4444444444444444,\"#bd3786\"],[0.5555555555555556,\"#d8576b\"],[0.6666666666666666,\"#ed7953\"],[0.7777777777777778,\"#fb9f3a\"],[0.8888888888888888,\"#fdca26\"],[1.0,\"#f0f921\"]],\"type\":\"histogram2d\"}],\"histogram2dcontour\":[{\"colorbar\":{\"outlinewidth\":0,\"ticks\":\"\"},\"colorscale\":[[0.0,\"#0d0887\"],[0.1111111111111111,\"#46039f\"],[0.2222222222222222,\"#7201a8\"],[0.3333333333333333,\"#9c179e\"],[0.4444444444444444,\"#bd3786\"],[0.5555555555555556,\"#d8576b\"],[0.6666666666666666,\"#ed7953\"],[0.7777777777777778,\"#fb9f3a\"],[0.8888888888888888,\"#fdca26\"],[1.0,\"#f0f921\"]],\"type\":\"histogram2dcontour\"}],\"mesh3d\":[{\"colorbar\":{\"outlinewidth\":0,\"ticks\":\"\"},\"type\":\"mesh3d\"}],\"parcoords\":[{\"line\":{\"colorbar\":{\"outlinewidth\":0,\"ticks\":\"\"}},\"type\":\"parcoords\"}],\"pie\":[{\"automargin\":true,\"type\":\"pie\"}],\"scatter\":[{\"marker\":{\"colorbar\":{\"outlinewidth\":0,\"ticks\":\"\"}},\"type\":\"scatter\"}],\"scatter3d\":[{\"line\":{\"colorbar\":{\"outlinewidth\":0,\"ticks\":\"\"}},\"marker\":{\"colorbar\":{\"outlinewidth\":0,\"ticks\":\"\"}},\"type\":\"scatter3d\"}],\"scattercarpet\":[{\"marker\":{\"colorbar\":{\"outlinewidth\":0,\"ticks\":\"\"}},\"type\":\"scattercarpet\"}],\"scattergeo\":[{\"marker\":{\"colorbar\":{\"outlinewidth\":0,\"ticks\":\"\"}},\"type\":\"scattergeo\"}],\"scattergl\":[{\"marker\":{\"colorbar\":{\"outlinewidth\":0,\"ticks\":\"\"}},\"type\":\"scattergl\"}],\"scattermapbox\":[{\"marker\":{\"colorbar\":{\"outlinewidth\":0,\"ticks\":\"\"}},\"type\":\"scattermapbox\"}],\"scatterpolar\":[{\"marker\":{\"colorbar\":{\"outlinewidth\":0,\"ticks\":\"\"}},\"type\":\"scatterpolar\"}],\"scatterpolargl\":[{\"marker\":{\"colorbar\":{\"outlinewidth\":0,\"ticks\":\"\"}},\"type\":\"scatterpolargl\"}],\"scatterternary\":[{\"marker\":{\"colorbar\":{\"outlinewidth\":0,\"ticks\":\"\"}},\"type\":\"scatterternary\"}],\"surface\":[{\"colorbar\":{\"outlinewidth\":0,\"ticks\":\"\"},\"colorscale\":[[0.0,\"#0d0887\"],[0.1111111111111111,\"#46039f\"],[0.2222222222222222,\"#7201a8\"],[0.3333333333333333,\"#9c179e\"],[0.4444444444444444,\"#bd3786\"],[0.5555555555555556,\"#d8576b\"],[0.6666666666666666,\"#ed7953\"],[0.7777777777777778,\"#fb9f3a\"],[0.8888888888888888,\"#fdca26\"],[1.0,\"#f0f921\"]],\"type\":\"surface\"}],\"table\":[{\"cells\":{\"fill\":{\"color\":\"#EBF0F8\"},\"line\":{\"color\":\"white\"}},\"header\":{\"fill\":{\"color\":\"#C8D4E3\"},\"line\":{\"color\":\"white\"}},\"type\":\"table\"}]},\"layout\":{\"annotationdefaults\":{\"arrowcolor\":\"#2a3f5f\",\"arrowhead\":0,\"arrowwidth\":1},\"autotypenumbers\":\"strict\",\"coloraxis\":{\"colorbar\":{\"outlinewidth\":0,\"ticks\":\"\"}},\"colorscale\":{\"diverging\":[[0,\"#8e0152\"],[0.1,\"#c51b7d\"],[0.2,\"#de77ae\"],[0.3,\"#f1b6da\"],[0.4,\"#fde0ef\"],[0.5,\"#f7f7f7\"],[0.6,\"#e6f5d0\"],[0.7,\"#b8e186\"],[0.8,\"#7fbc41\"],[0.9,\"#4d9221\"],[1,\"#276419\"]],\"sequential\":[[0.0,\"#0d0887\"],[0.1111111111111111,\"#46039f\"],[0.2222222222222222,\"#7201a8\"],[0.3333333333333333,\"#9c179e\"],[0.4444444444444444,\"#bd3786\"],[0.5555555555555556,\"#d8576b\"],[0.6666666666666666,\"#ed7953\"],[0.7777777777777778,\"#fb9f3a\"],[0.8888888888888888,\"#fdca26\"],[1.0,\"#f0f921\"]],\"sequentialminus\":[[0.0,\"#0d0887\"],[0.1111111111111111,\"#46039f\"],[0.2222222222222222,\"#7201a8\"],[0.3333333333333333,\"#9c179e\"],[0.4444444444444444,\"#bd3786\"],[0.5555555555555556,\"#d8576b\"],[0.6666666666666666,\"#ed7953\"],[0.7777777777777778,\"#fb9f3a\"],[0.8888888888888888,\"#fdca26\"],[1.0,\"#f0f921\"]]},\"colorway\":[\"#636efa\",\"#EF553B\",\"#00cc96\",\"#ab63fa\",\"#FFA15A\",\"#19d3f3\",\"#FF6692\",\"#B6E880\",\"#FF97FF\",\"#FECB52\"],\"font\":{\"color\":\"#2a3f5f\"},\"geo\":{\"bgcolor\":\"white\",\"lakecolor\":\"white\",\"landcolor\":\"#E5ECF6\",\"showlakes\":true,\"showland\":true,\"subunitcolor\":\"white\"},\"hoverlabel\":{\"align\":\"left\"},\"hovermode\":\"closest\",\"mapbox\":{\"style\":\"light\"},\"paper_bgcolor\":\"white\",\"plot_bgcolor\":\"#E5ECF6\",\"polar\":{\"angularaxis\":{\"gridcolor\":\"white\",\"linecolor\":\"white\",\"ticks\":\"\"},\"bgcolor\":\"#E5ECF6\",\"radialaxis\":{\"gridcolor\":\"white\",\"linecolor\":\"white\",\"ticks\":\"\"}},\"scene\":{\"xaxis\":{\"backgroundcolor\":\"#E5ECF6\",\"gridcolor\":\"white\",\"gridwidth\":2,\"linecolor\":\"white\",\"showbackground\":true,\"ticks\":\"\",\"zerolinecolor\":\"white\"},\"yaxis\":{\"backgroundcolor\":\"#E5ECF6\",\"gridcolor\":\"white\",\"gridwidth\":2,\"linecolor\":\"white\",\"showbackground\":true,\"ticks\":\"\",\"zerolinecolor\":\"white\"},\"zaxis\":{\"backgroundcolor\":\"#E5ECF6\",\"gridcolor\":\"white\",\"gridwidth\":2,\"linecolor\":\"white\",\"showbackground\":true,\"ticks\":\"\",\"zerolinecolor\":\"white\"}},\"shapedefaults\":{\"line\":{\"color\":\"#2a3f5f\"}},\"ternary\":{\"aaxis\":{\"gridcolor\":\"white\",\"linecolor\":\"white\",\"ticks\":\"\"},\"baxis\":{\"gridcolor\":\"white\",\"linecolor\":\"white\",\"ticks\":\"\"},\"bgcolor\":\"#E5ECF6\",\"caxis\":{\"gridcolor\":\"white\",\"linecolor\":\"white\",\"ticks\":\"\"}},\"title\":{\"x\":0.05},\"xaxis\":{\"automargin\":true,\"gridcolor\":\"white\",\"linecolor\":\"white\",\"ticks\":\"\",\"title\":{\"standoff\":15},\"zerolinecolor\":\"white\",\"zerolinewidth\":2},\"yaxis\":{\"automargin\":true,\"gridcolor\":\"white\",\"linecolor\":\"white\",\"ticks\":\"\",\"title\":{\"standoff\":15},\"zerolinecolor\":\"white\",\"zerolinewidth\":2}}},\"legend\":{\"tracegroupgap\":0},\"title\":{\"text\":\"Distribution of Churn\"},\"piecolorway\":[\"green\",\"red\"]},                        {\"responsive\": true}                    ).then(function(){\n",
              "                            \n",
              "var gd = document.getElementById('f0e0dc0d-a5f6-405a-a8a1-521b1d1e6f9f');\n",
              "var x = new MutationObserver(function (mutations, observer) {{\n",
              "        var display = window.getComputedStyle(gd).display;\n",
              "        if (!display || display === 'none') {{\n",
              "            console.log([gd, 'removed!']);\n",
              "            Plotly.purge(gd);\n",
              "            observer.disconnect();\n",
              "        }}\n",
              "}});\n",
              "\n",
              "// Listen for the removal of the full notebook cells\n",
              "var notebookContainer = gd.closest('#notebook-container');\n",
              "if (notebookContainer) {{\n",
              "    x.observe(notebookContainer, {childList: true});\n",
              "}}\n",
              "\n",
              "// Listen for the clearing of the current output cell\n",
              "var outputEl = gd.closest('.output');\n",
              "if (outputEl) {{\n",
              "    x.observe(outputEl, {childList: true});\n",
              "}}\n",
              "\n",
              "                        })                };                            </script>        </div>\n",
              "</body>\n",
              "</html>"
            ]
          },
          "metadata": {}
        }
      ]
    },
    {
      "cell_type": "code",
      "metadata": {
        "id": "atTrCLyrTFgn"
      },
      "source": [
        "#Defining bar chart function\n",
        "def bar(feature, df=df1 ):\n",
        "    #Groupby the categorical feature\n",
        "    temp_df = df.groupby([feature, 'Exited']).size().reset_index()\n",
        "    temp_df = temp_df.rename(columns={0:'Count'})\n",
        "    #Calculate the value counts of each distribution and it's corresponding Percentages\n",
        "    value_counts_df = df[feature].value_counts().to_frame().reset_index()\n",
        "    categories = [cat[1][0] for cat in value_counts_df.iterrows()]\n",
        "    #Calculate the value counts of each distribution and it's corresponding Percentages\n",
        "    num_list = [num[1][1] for num in value_counts_df.iterrows()]\n",
        "    div_list = [element / sum(num_list) for element in num_list]\n",
        "    percentage = [round(element * 100,1) for element in div_list]\n",
        "    #Defining string formatting for graph annotation\n",
        "    #Numeric section\n",
        "    def num_format(list_instance):\n",
        "        formatted_str = ''\n",
        "        for index,num in enumerate(list_instance):\n",
        "            if index < len(list_instance)-2:\n",
        "                formatted_str=formatted_str+f'{num}%, ' #append to empty string(formatted_str)\n",
        "            elif index == len(list_instance)-2:\n",
        "                formatted_str=formatted_str+f'{num}% & '\n",
        "            else:\n",
        "                formatted_str=formatted_str+f'{num}%'\n",
        "        return formatted_str\n",
        "    #Categorical section\n",
        "    def str_format(list_instance):\n",
        "        formatted_str = ''\n",
        "        for index, cat in enumerate(list_instance):\n",
        "            if index < len(list_instance)-2:\n",
        "                formatted_str=formatted_str+f'{cat}, '\n",
        "            elif index == len(list_instance)-2:\n",
        "                formatted_str=formatted_str+f'{cat} & '\n",
        "            else:\n",
        "                formatted_str=formatted_str+f'{cat}'\n",
        "        return formatted_str\n",
        "\n",
        "\n",
        "    #Running the formatting functions\n",
        "    num_str = num_format(percentage)\n",
        "    cat_str = str_format(categories)\n",
        "    \n",
        "    #Setting graph framework\n",
        "    fig = px.bar(temp_df, x=feature, y='Count', color='Exited', title=f'Churn rate by {feature}', barmode=\"group\", color_discrete_sequence=[\"green\", \"red\"])\n",
        "    fig.add_annotation(\n",
        "                text=f'Value count of distribution of {cat_str} are<br>{num_str} percentage respectively.',\n",
        "                align='left',\n",
        "                showarrow=False,\n",
        "                xref='paper',\n",
        "                yref='paper',\n",
        "                x=1.4,\n",
        "                y=1.3,\n",
        "                bordercolor='black',\n",
        "                borderwidth=1)\n",
        "    fig.update_layout(\n",
        "        # margin space for the annotations on the right\n",
        "        margin=dict(r=400),\n",
        "    )\n",
        "     \n",
        "    return fig.show()"
      ],
      "execution_count": null,
      "outputs": []
    },
    {
      "cell_type": "code",
      "metadata": {
        "colab": {
          "base_uri": "https://localhost:8080/",
          "height": 542
        },
        "id": "7qdzyHeYTTwd",
        "outputId": "0ee5fac3-8e7f-4f66-a6ad-c5f9caa8dbe0"
      },
      "source": [
        "#Gender feature plot\n",
        "bar('Gender')"
      ],
      "execution_count": null,
      "outputs": [
        {
          "output_type": "display_data",
          "data": {
            "text/html": [
              "<html>\n",
              "<head><meta charset=\"utf-8\" /></head>\n",
              "<body>\n",
              "    <div>            <script src=\"https://cdnjs.cloudflare.com/ajax/libs/mathjax/2.7.5/MathJax.js?config=TeX-AMS-MML_SVG\"></script><script type=\"text/javascript\">if (window.MathJax) {MathJax.Hub.Config({SVG: {font: \"STIX-Web\"}});}</script>                <script type=\"text/javascript\">window.PlotlyConfig = {MathJaxConfig: 'local'};</script>\n",
              "        <script src=\"https://cdn.plot.ly/plotly-2.8.3.min.js\"></script>                <div id=\"b152eb76-2c30-42e9-97d5-29cac13aa2e7\" class=\"plotly-graph-div\" style=\"height:525px; width:100%;\"></div>            <script type=\"text/javascript\">                                    window.PLOTLYENV=window.PLOTLYENV || {};                                    if (document.getElementById(\"b152eb76-2c30-42e9-97d5-29cac13aa2e7\")) {                    Plotly.newPlot(                        \"b152eb76-2c30-42e9-97d5-29cac13aa2e7\",                        [{\"alignmentgroup\":\"True\",\"hovertemplate\":\"Gender=%{x}<br>Count=%{y}<br>Exited=%{marker.color}<extra></extra>\",\"legendgroup\":\"\",\"marker\":{\"color\":[0,1,0,1],\"coloraxis\":\"coloraxis\",\"pattern\":{\"shape\":\"\"}},\"name\":\"\",\"offsetgroup\":\"\",\"orientation\":\"v\",\"showlegend\":false,\"textposition\":\"auto\",\"x\":[\"Female\",\"Female\",\"Male\",\"Male\"],\"xaxis\":\"x\",\"y\":[3404,1139,4559,898],\"yaxis\":\"y\",\"type\":\"bar\"}],                        {\"template\":{\"data\":{\"bar\":[{\"error_x\":{\"color\":\"#2a3f5f\"},\"error_y\":{\"color\":\"#2a3f5f\"},\"marker\":{\"line\":{\"color\":\"#E5ECF6\",\"width\":0.5},\"pattern\":{\"fillmode\":\"overlay\",\"size\":10,\"solidity\":0.2}},\"type\":\"bar\"}],\"barpolar\":[{\"marker\":{\"line\":{\"color\":\"#E5ECF6\",\"width\":0.5},\"pattern\":{\"fillmode\":\"overlay\",\"size\":10,\"solidity\":0.2}},\"type\":\"barpolar\"}],\"carpet\":[{\"aaxis\":{\"endlinecolor\":\"#2a3f5f\",\"gridcolor\":\"white\",\"linecolor\":\"white\",\"minorgridcolor\":\"white\",\"startlinecolor\":\"#2a3f5f\"},\"baxis\":{\"endlinecolor\":\"#2a3f5f\",\"gridcolor\":\"white\",\"linecolor\":\"white\",\"minorgridcolor\":\"white\",\"startlinecolor\":\"#2a3f5f\"},\"type\":\"carpet\"}],\"choropleth\":[{\"colorbar\":{\"outlinewidth\":0,\"ticks\":\"\"},\"type\":\"choropleth\"}],\"contour\":[{\"colorbar\":{\"outlinewidth\":0,\"ticks\":\"\"},\"colorscale\":[[0.0,\"#0d0887\"],[0.1111111111111111,\"#46039f\"],[0.2222222222222222,\"#7201a8\"],[0.3333333333333333,\"#9c179e\"],[0.4444444444444444,\"#bd3786\"],[0.5555555555555556,\"#d8576b\"],[0.6666666666666666,\"#ed7953\"],[0.7777777777777778,\"#fb9f3a\"],[0.8888888888888888,\"#fdca26\"],[1.0,\"#f0f921\"]],\"type\":\"contour\"}],\"contourcarpet\":[{\"colorbar\":{\"outlinewidth\":0,\"ticks\":\"\"},\"type\":\"contourcarpet\"}],\"heatmap\":[{\"colorbar\":{\"outlinewidth\":0,\"ticks\":\"\"},\"colorscale\":[[0.0,\"#0d0887\"],[0.1111111111111111,\"#46039f\"],[0.2222222222222222,\"#7201a8\"],[0.3333333333333333,\"#9c179e\"],[0.4444444444444444,\"#bd3786\"],[0.5555555555555556,\"#d8576b\"],[0.6666666666666666,\"#ed7953\"],[0.7777777777777778,\"#fb9f3a\"],[0.8888888888888888,\"#fdca26\"],[1.0,\"#f0f921\"]],\"type\":\"heatmap\"}],\"heatmapgl\":[{\"colorbar\":{\"outlinewidth\":0,\"ticks\":\"\"},\"colorscale\":[[0.0,\"#0d0887\"],[0.1111111111111111,\"#46039f\"],[0.2222222222222222,\"#7201a8\"],[0.3333333333333333,\"#9c179e\"],[0.4444444444444444,\"#bd3786\"],[0.5555555555555556,\"#d8576b\"],[0.6666666666666666,\"#ed7953\"],[0.7777777777777778,\"#fb9f3a\"],[0.8888888888888888,\"#fdca26\"],[1.0,\"#f0f921\"]],\"type\":\"heatmapgl\"}],\"histogram\":[{\"marker\":{\"pattern\":{\"fillmode\":\"overlay\",\"size\":10,\"solidity\":0.2}},\"type\":\"histogram\"}],\"histogram2d\":[{\"colorbar\":{\"outlinewidth\":0,\"ticks\":\"\"},\"colorscale\":[[0.0,\"#0d0887\"],[0.1111111111111111,\"#46039f\"],[0.2222222222222222,\"#7201a8\"],[0.3333333333333333,\"#9c179e\"],[0.4444444444444444,\"#bd3786\"],[0.5555555555555556,\"#d8576b\"],[0.6666666666666666,\"#ed7953\"],[0.7777777777777778,\"#fb9f3a\"],[0.8888888888888888,\"#fdca26\"],[1.0,\"#f0f921\"]],\"type\":\"histogram2d\"}],\"histogram2dcontour\":[{\"colorbar\":{\"outlinewidth\":0,\"ticks\":\"\"},\"colorscale\":[[0.0,\"#0d0887\"],[0.1111111111111111,\"#46039f\"],[0.2222222222222222,\"#7201a8\"],[0.3333333333333333,\"#9c179e\"],[0.4444444444444444,\"#bd3786\"],[0.5555555555555556,\"#d8576b\"],[0.6666666666666666,\"#ed7953\"],[0.7777777777777778,\"#fb9f3a\"],[0.8888888888888888,\"#fdca26\"],[1.0,\"#f0f921\"]],\"type\":\"histogram2dcontour\"}],\"mesh3d\":[{\"colorbar\":{\"outlinewidth\":0,\"ticks\":\"\"},\"type\":\"mesh3d\"}],\"parcoords\":[{\"line\":{\"colorbar\":{\"outlinewidth\":0,\"ticks\":\"\"}},\"type\":\"parcoords\"}],\"pie\":[{\"automargin\":true,\"type\":\"pie\"}],\"scatter\":[{\"marker\":{\"colorbar\":{\"outlinewidth\":0,\"ticks\":\"\"}},\"type\":\"scatter\"}],\"scatter3d\":[{\"line\":{\"colorbar\":{\"outlinewidth\":0,\"ticks\":\"\"}},\"marker\":{\"colorbar\":{\"outlinewidth\":0,\"ticks\":\"\"}},\"type\":\"scatter3d\"}],\"scattercarpet\":[{\"marker\":{\"colorbar\":{\"outlinewidth\":0,\"ticks\":\"\"}},\"type\":\"scattercarpet\"}],\"scattergeo\":[{\"marker\":{\"colorbar\":{\"outlinewidth\":0,\"ticks\":\"\"}},\"type\":\"scattergeo\"}],\"scattergl\":[{\"marker\":{\"colorbar\":{\"outlinewidth\":0,\"ticks\":\"\"}},\"type\":\"scattergl\"}],\"scattermapbox\":[{\"marker\":{\"colorbar\":{\"outlinewidth\":0,\"ticks\":\"\"}},\"type\":\"scattermapbox\"}],\"scatterpolar\":[{\"marker\":{\"colorbar\":{\"outlinewidth\":0,\"ticks\":\"\"}},\"type\":\"scatterpolar\"}],\"scatterpolargl\":[{\"marker\":{\"colorbar\":{\"outlinewidth\":0,\"ticks\":\"\"}},\"type\":\"scatterpolargl\"}],\"scatterternary\":[{\"marker\":{\"colorbar\":{\"outlinewidth\":0,\"ticks\":\"\"}},\"type\":\"scatterternary\"}],\"surface\":[{\"colorbar\":{\"outlinewidth\":0,\"ticks\":\"\"},\"colorscale\":[[0.0,\"#0d0887\"],[0.1111111111111111,\"#46039f\"],[0.2222222222222222,\"#7201a8\"],[0.3333333333333333,\"#9c179e\"],[0.4444444444444444,\"#bd3786\"],[0.5555555555555556,\"#d8576b\"],[0.6666666666666666,\"#ed7953\"],[0.7777777777777778,\"#fb9f3a\"],[0.8888888888888888,\"#fdca26\"],[1.0,\"#f0f921\"]],\"type\":\"surface\"}],\"table\":[{\"cells\":{\"fill\":{\"color\":\"#EBF0F8\"},\"line\":{\"color\":\"white\"}},\"header\":{\"fill\":{\"color\":\"#C8D4E3\"},\"line\":{\"color\":\"white\"}},\"type\":\"table\"}]},\"layout\":{\"annotationdefaults\":{\"arrowcolor\":\"#2a3f5f\",\"arrowhead\":0,\"arrowwidth\":1},\"autotypenumbers\":\"strict\",\"coloraxis\":{\"colorbar\":{\"outlinewidth\":0,\"ticks\":\"\"}},\"colorscale\":{\"diverging\":[[0,\"#8e0152\"],[0.1,\"#c51b7d\"],[0.2,\"#de77ae\"],[0.3,\"#f1b6da\"],[0.4,\"#fde0ef\"],[0.5,\"#f7f7f7\"],[0.6,\"#e6f5d0\"],[0.7,\"#b8e186\"],[0.8,\"#7fbc41\"],[0.9,\"#4d9221\"],[1,\"#276419\"]],\"sequential\":[[0.0,\"#0d0887\"],[0.1111111111111111,\"#46039f\"],[0.2222222222222222,\"#7201a8\"],[0.3333333333333333,\"#9c179e\"],[0.4444444444444444,\"#bd3786\"],[0.5555555555555556,\"#d8576b\"],[0.6666666666666666,\"#ed7953\"],[0.7777777777777778,\"#fb9f3a\"],[0.8888888888888888,\"#fdca26\"],[1.0,\"#f0f921\"]],\"sequentialminus\":[[0.0,\"#0d0887\"],[0.1111111111111111,\"#46039f\"],[0.2222222222222222,\"#7201a8\"],[0.3333333333333333,\"#9c179e\"],[0.4444444444444444,\"#bd3786\"],[0.5555555555555556,\"#d8576b\"],[0.6666666666666666,\"#ed7953\"],[0.7777777777777778,\"#fb9f3a\"],[0.8888888888888888,\"#fdca26\"],[1.0,\"#f0f921\"]]},\"colorway\":[\"#636efa\",\"#EF553B\",\"#00cc96\",\"#ab63fa\",\"#FFA15A\",\"#19d3f3\",\"#FF6692\",\"#B6E880\",\"#FF97FF\",\"#FECB52\"],\"font\":{\"color\":\"#2a3f5f\"},\"geo\":{\"bgcolor\":\"white\",\"lakecolor\":\"white\",\"landcolor\":\"#E5ECF6\",\"showlakes\":true,\"showland\":true,\"subunitcolor\":\"white\"},\"hoverlabel\":{\"align\":\"left\"},\"hovermode\":\"closest\",\"mapbox\":{\"style\":\"light\"},\"paper_bgcolor\":\"white\",\"plot_bgcolor\":\"#E5ECF6\",\"polar\":{\"angularaxis\":{\"gridcolor\":\"white\",\"linecolor\":\"white\",\"ticks\":\"\"},\"bgcolor\":\"#E5ECF6\",\"radialaxis\":{\"gridcolor\":\"white\",\"linecolor\":\"white\",\"ticks\":\"\"}},\"scene\":{\"xaxis\":{\"backgroundcolor\":\"#E5ECF6\",\"gridcolor\":\"white\",\"gridwidth\":2,\"linecolor\":\"white\",\"showbackground\":true,\"ticks\":\"\",\"zerolinecolor\":\"white\"},\"yaxis\":{\"backgroundcolor\":\"#E5ECF6\",\"gridcolor\":\"white\",\"gridwidth\":2,\"linecolor\":\"white\",\"showbackground\":true,\"ticks\":\"\",\"zerolinecolor\":\"white\"},\"zaxis\":{\"backgroundcolor\":\"#E5ECF6\",\"gridcolor\":\"white\",\"gridwidth\":2,\"linecolor\":\"white\",\"showbackground\":true,\"ticks\":\"\",\"zerolinecolor\":\"white\"}},\"shapedefaults\":{\"line\":{\"color\":\"#2a3f5f\"}},\"ternary\":{\"aaxis\":{\"gridcolor\":\"white\",\"linecolor\":\"white\",\"ticks\":\"\"},\"baxis\":{\"gridcolor\":\"white\",\"linecolor\":\"white\",\"ticks\":\"\"},\"bgcolor\":\"#E5ECF6\",\"caxis\":{\"gridcolor\":\"white\",\"linecolor\":\"white\",\"ticks\":\"\"}},\"title\":{\"x\":0.05},\"xaxis\":{\"automargin\":true,\"gridcolor\":\"white\",\"linecolor\":\"white\",\"ticks\":\"\",\"title\":{\"standoff\":15},\"zerolinecolor\":\"white\",\"zerolinewidth\":2},\"yaxis\":{\"automargin\":true,\"gridcolor\":\"white\",\"linecolor\":\"white\",\"ticks\":\"\",\"title\":{\"standoff\":15},\"zerolinecolor\":\"white\",\"zerolinewidth\":2}}},\"xaxis\":{\"anchor\":\"y\",\"domain\":[0.0,1.0],\"title\":{\"text\":\"Gender\"}},\"yaxis\":{\"anchor\":\"x\",\"domain\":[0.0,1.0],\"title\":{\"text\":\"Count\"}},\"coloraxis\":{\"colorbar\":{\"title\":{\"text\":\"Exited\"}},\"colorscale\":[[0.0,\"#0d0887\"],[0.1111111111111111,\"#46039f\"],[0.2222222222222222,\"#7201a8\"],[0.3333333333333333,\"#9c179e\"],[0.4444444444444444,\"#bd3786\"],[0.5555555555555556,\"#d8576b\"],[0.6666666666666666,\"#ed7953\"],[0.7777777777777778,\"#fb9f3a\"],[0.8888888888888888,\"#fdca26\"],[1.0,\"#f0f921\"]]},\"legend\":{\"tracegroupgap\":0},\"title\":{\"text\":\"Churn rate by Gender\"},\"barmode\":\"group\",\"annotations\":[{\"align\":\"left\",\"bordercolor\":\"black\",\"borderwidth\":1,\"showarrow\":false,\"text\":\"Value count of distribution of Male & Female are<br>54.6% & 45.4% percentage respectively.\",\"x\":1.4,\"xref\":\"paper\",\"y\":1.3,\"yref\":\"paper\"}],\"margin\":{\"r\":400}},                        {\"responsive\": true}                    ).then(function(){\n",
              "                            \n",
              "var gd = document.getElementById('b152eb76-2c30-42e9-97d5-29cac13aa2e7');\n",
              "var x = new MutationObserver(function (mutations, observer) {{\n",
              "        var display = window.getComputedStyle(gd).display;\n",
              "        if (!display || display === 'none') {{\n",
              "            console.log([gd, 'removed!']);\n",
              "            Plotly.purge(gd);\n",
              "            observer.disconnect();\n",
              "        }}\n",
              "}});\n",
              "\n",
              "// Listen for the removal of the full notebook cells\n",
              "var notebookContainer = gd.closest('#notebook-container');\n",
              "if (notebookContainer) {{\n",
              "    x.observe(notebookContainer, {childList: true});\n",
              "}}\n",
              "\n",
              "// Listen for the clearing of the current output cell\n",
              "var outputEl = gd.closest('.output');\n",
              "if (outputEl) {{\n",
              "    x.observe(outputEl, {childList: true});\n",
              "}}\n",
              "\n",
              "                        })                };                            </script>        </div>\n",
              "</body>\n",
              "</html>"
            ]
          },
          "metadata": {}
        }
      ]
    },
    {
      "cell_type": "code",
      "source": [
        "df2 = df1.drop(['Geography','Gender'], axis=1)"
      ],
      "metadata": {
        "id": "Xy765hbaNhxf"
      },
      "execution_count": null,
      "outputs": []
    },
    {
      "cell_type": "code",
      "source": [
        "Geography = pd.get_dummies(df.Geography).iloc[:,1:]\n",
        "Gender = pd.get_dummies(df.Gender).iloc[:,1:]"
      ],
      "metadata": {
        "id": "Alc4FNisN0ZM"
      },
      "execution_count": null,
      "outputs": []
    },
    {
      "cell_type": "code",
      "source": [
        "df_fin = pd.concat([df2,Geography ,Gender], axis=1)"
      ],
      "metadata": {
        "id": "Ae5uIEftOF9j"
      },
      "execution_count": null,
      "outputs": []
    },
    {
      "cell_type": "code",
      "source": [
        "X = df_fin.drop(['Exited'], axis=1)\n",
        "y = df_fin['Exited']"
      ],
      "metadata": {
        "id": "-ztqXAUxOylR"
      },
      "execution_count": null,
      "outputs": []
    },
    {
      "cell_type": "code",
      "source": [
        "from sklearn.model_selection import train_test_split\n",
        "X_train, X_test, y_train, y_test = train_test_split(X, y, test_size = 0.2, random_state = 0)"
      ],
      "metadata": {
        "id": "hy9k-gv3PQFn"
      },
      "execution_count": null,
      "outputs": []
    },
    {
      "cell_type": "code",
      "source": [
        "from catboost import CatBoostClassifier\n",
        "\n",
        "clf = CatBoostClassifier(\n",
        "    iterations=5, \n",
        "    learning_rate=0.1) \n",
        "clf.fit(X_train, y_train)\n",
        "predictions = classifier.predict(X_test)"
      ],
      "metadata": {
        "id": "5E2OHRnQXT8B",
        "outputId": "a0b49af3-f238-4e9c-c1b8-9fce1b81cfdc",
        "colab": {
          "base_uri": "https://localhost:8080/"
        }
      },
      "execution_count": null,
      "outputs": [
        {
          "output_type": "stream",
          "name": "stdout",
          "text": [
            "0:\tlearn: 0.6435775\ttotal: 49.3ms\tremaining: 197ms\n",
            "1:\tlearn: 0.6046034\ttotal: 51.9ms\tremaining: 77.8ms\n",
            "2:\tlearn: 0.5713934\ttotal: 54.2ms\tremaining: 36.2ms\n",
            "3:\tlearn: 0.5415994\ttotal: 56.6ms\tremaining: 14.2ms\n",
            "4:\tlearn: 0.5196212\ttotal: 58.9ms\tremaining: 0us\n"
          ]
        }
      ]
    },
    {
      "cell_type": "code",
      "source": [
        "from sklearn.metrics import classification_report, accuracy_score\n",
        "print(classification_report(y_test, predictions ))\n",
        "print(accuracy_score(y_test, predictions ))\n",
        "\n"
      ],
      "metadata": {
        "id": "pqVjX7X1RFzd",
        "outputId": "0239fcfa-6a60-417b-ab30-b735944500b1",
        "colab": {
          "base_uri": "https://localhost:8080/"
        }
      },
      "execution_count": null,
      "outputs": [
        {
          "output_type": "stream",
          "name": "stdout",
          "text": [
            "              precision    recall  f1-score   support\n",
            "\n",
            "           0       0.89      0.96      0.92      1595\n",
            "           1       0.75      0.52      0.61       405\n",
            "\n",
            "    accuracy                           0.87      2000\n",
            "   macro avg       0.82      0.74      0.77      2000\n",
            "weighted avg       0.86      0.87      0.86      2000\n",
            "\n",
            "0.8675\n"
          ]
        }
      ]
    },
    {
      "cell_type": "code",
      "source": [
        "import matplotlib.pyplot as plt\n",
        "feat_importances = pd.Series(classifier.feature_importances_, index=X.columns)\n",
        "feat_importances.nlargest (10).plot (kind='barh')"
      ],
      "metadata": {
        "id": "RZTN0iTKVp6K",
        "outputId": "c8441c2d-83ef-4824-97cb-c0d3a121dd43",
        "colab": {
          "base_uri": "https://localhost:8080/",
          "height": 282
        }
      },
      "execution_count": null,
      "outputs": [
        {
          "output_type": "execute_result",
          "data": {
            "text/plain": [
              "<matplotlib.axes._subplots.AxesSubplot at 0x7fcac587e690>"
            ]
          },
          "metadata": {},
          "execution_count": 25
        },
        {
          "output_type": "display_data",
          "data": {
            "text/plain": [
              "<Figure size 432x288 with 1 Axes>"
            ],
            "image/png": "[encoded data removed]"
          },
          "metadata": {
            "needs_background": "light"
          }
        }
      ]
    }
  ]
}